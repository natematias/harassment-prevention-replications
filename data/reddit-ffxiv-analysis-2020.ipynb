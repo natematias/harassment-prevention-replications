{
 "cells": [
  {
   "cell_type": "markdown",
   "metadata": {},
   "source": [
    "# Analyze Results from r/ffxiv Study\n",
    "J. Nathan Matias, July 2020\n",
    "\n",
    "The [pre-analysis plan for this study](https://osf.io/ymv9h/) is on the open science framework.\n",
    "\n",
    "## Codebook\n",
    "\n",
    "### Posts\n",
    "* **newcomer.comments**: the number of first-time comments\n",
    "* **newcomer.comments.removed** : number of first-time comments removed\n",
    "* **num.comments**: total number of comments\n",
    "* **num.comments.removed**: total number of removed comments\n",
    "* **num.commenters**: number of unique accounts commenting in the discussion\n",
    "* **visible**: whether the post was allowed by human or automated moderators to remain in the community\n",
    "* **weekend (0/1)**: whether the post was created on a weekend or not\n",
    "* **weekday (0-6)**: the day of the week (Monday =0 ) that the post was published (see [Python datetime](https://docs.python.org/2/library/datetime.html))\n",
    "* **block.id**: Randomization block ID\n",
    "* **treatment (0/1)**: Whether the post received the treatment \n",
    "\n",
    "### Newcomer comments\n",
    "The dataset of comments are comments from accounts that had not made a comment in the previous 6 months.\n",
    "\n",
    "* **visible (0/1)**: whether the comment was permitted by moderators to be shown (1), or whether it was removed (0)\n",
    "* **post.block.id**: randomization block that the post was in\n",
    "* **post.treatment (0/1)**: whether the toplevel post was in the treatment group or not\n",
    "* **post.assign.number**: unique integer assigned to the post within our experiment. Multiple comments will have the same number, since many posts received more than one newcomer comment\n",
    "* **post.visible**: binary indicator for whether the post was permitted by moderators\n",
    "* **minutes.since.post.created**: the number of minutes elapsed between post creation and comment submission\n",
    "* **body.length**: the number of characters in the comment\n",
    "* **is_submitter**: whether the commenter is the person who submitted the top level discussion post\n",
    "* **author.prev.comments**: number of previous comments made by the account (should always be 0 for the newcomers dataset)\n"
   ]
  },
  {
   "cell_type": "markdown",
   "metadata": {},
   "source": [
    "## Load Libraries and Files"
   ]
  },
  {
   "cell_type": "code",
   "execution_count": 1,
   "metadata": {},
   "outputs": [],
   "source": [
    "data.dir = \"~/Tresors/CivilServant/projects/CivilServant-reddit/r-ffxiv-2020\"\n",
    "newcomer.comments.filename = \"r-ffxiv-newcomer-comments-11.22.2020.csv\"\n",
    "all.comments.filename = \"r-ffxiv-all-comments-11.22.2020.csv\"\n",
    "posts.filename = \"r-ffxiv-posts-11.22.2020.csv\""
   ]
  },
  {
   "cell_type": "code",
   "execution_count": 2,
   "metadata": {},
   "outputs": [
    {
     "name": "stderr",
     "output_type": "stream",
     "text": [
      "Loading required package: Hmisc\n",
      "Warning message:\n",
      "“package ‘Hmisc’ was built under R version 3.5.2”Loading required package: lattice\n",
      "Loading required package: survival\n",
      "Loading required package: Formula\n",
      "Loading required package: ggplot2\n",
      "\n",
      "Attaching package: ‘Hmisc’\n",
      "\n",
      "The following objects are masked from ‘package:base’:\n",
      "\n",
      "    format.pval, units\n",
      "\n",
      "Loading required package: SparseM\n",
      "\n",
      "Attaching package: ‘SparseM’\n",
      "\n",
      "The following object is masked from ‘package:base’:\n",
      "\n",
      "    backsolve\n",
      "\n",
      "\n",
      "Attaching package: ‘rms’\n",
      "\n",
      "The following object is masked from ‘package:Hmisc’:\n",
      "\n",
      "    plotp\n",
      "\n",
      "The following object is masked from ‘package:jsonlite’:\n",
      "\n",
      "    validate\n",
      "\n"
     ]
    }
   ],
   "source": [
    "library(gmodels)  # Contains CrossTable\n",
    "library(estimatr) # Contains difference_in_means\n",
    "library(MASS)     # Contains glm.nb\n",
    "library(rms)      # Contains lrm\n",
    "\n",
    "### Add Source Sans as a font for ggplot2\n",
    "library(sysfonts) # to load source sans pro\n",
    "# https://rdrr.io/github/kjhealy/sourcesans/src/R/sourcesans.r\n",
    "\n",
    "## Set visual style\n",
    "catpalette   <- c(\"#333333\", \"#ea5324\", \"#005073\", \"#7D868C\", \"#BDBBBB\", \"#F2F2F2\",\"#F6F2EB\")\n",
    "chartpalette <- c(\"#ea5324\", \"#005073\", \"#7D868C\", \"#333333\", \"#F2F2F2\",\"#BDBBBB\", \"#F6F2EB\")\n",
    "\n",
    "bg.whiteortransparent <- Sys.getenv('RTRANSPARENTBG','white')\n",
    "\n",
    "\n",
    "cat.theme <-  theme_bw() +\n",
    "              theme(plot.title = element_text(size=13, face=\"bold\", color=catpalette[3]),\n",
    "                    axis.title.x =element_text(size=10, hjust = -0.01, color = catpalette[1]),\n",
    "                    axis.title.y =element_text(size=10, color = catpalette[1]),\n",
    "                    panel.background = element_rect(fill=catpalette[6]),\n",
    "                    plot.background = element_rect(fill =bg.whiteortransparent, color = NA), # bg of the plot\n",
    "                   )\n",
    "\n",
    "end.caption.text = \"\n",
    "\n",
    "Citizens & Technology Lab - citizensandtech.org\n",
    "© Creative Commons International Attribution 4.0\""
   ]
  },
  {
   "cell_type": "code",
   "execution_count": 3,
   "metadata": {},
   "outputs": [],
   "source": [
    "comments.df <- read.csv(file.path(data.dir, newcomer.comments.filename))\n",
    "comments.df$visible <- as.numeric(comments.df$visible==\"True\")\n",
    "posts.df    <- read.csv(file.path(data.dir, posts.filename))\n",
    "\n",
    "all.comments.df <- read.csv(file.path(data.dir, all.comments.filename))\n",
    "all.comments.df$visible <- as.numeric(all.comments.df$visible==\"True\")\n"
   ]
  },
  {
   "cell_type": "code",
   "execution_count": 54,
   "metadata": {},
   "outputs": [
    {
     "data": {
      "text/plain": [
       "[1] \"2019-07-06 12:26:30 EDT\""
      ]
     },
     "metadata": {},
     "output_type": "display_data"
    },
    {
     "data": {
      "text/plain": [
       "[1] \"2019-08-24 19:06:05 EDT\""
      ]
     },
     "metadata": {},
     "output_type": "display_data"
    }
   ],
   "source": [
    "min(as.POSIXct(posts.df$created))\n",
    "max(as.POSIXct(posts.df$created))"
   ]
  },
  {
   "cell_type": "code",
   "execution_count": 58,
   "metadata": {},
   "outputs": [
    {
     "data": {
      "text/html": [
       "345313"
      ],
      "text/latex": [
       "345313"
      ],
      "text/markdown": [
       "345313"
      ],
      "text/plain": [
       "[1] 345313"
      ]
     },
     "metadata": {},
     "output_type": "display_data"
    }
   ],
   "source": [
    "nrow(all.comments.df)"
   ]
  },
  {
   "cell_type": "code",
   "execution_count": 56,
   "metadata": {},
   "outputs": [
    {
     "data": {
      "text/html": [
       "12362"
      ],
      "text/latex": [
       "12362"
      ],
      "text/markdown": [
       "12362"
      ],
      "text/plain": [
       "[1] 12362"
      ]
     },
     "metadata": {},
     "output_type": "display_data"
    }
   ],
   "source": [
    "nrow(subset(comments.df, newcomer==\"True\"))"
   ]
  },
  {
   "cell_type": "code",
   "execution_count": 57,
   "metadata": {},
   "outputs": [
    {
     "name": "stdout",
     "output_type": "stream",
     "text": [
      "\n",
      " \n",
      "   Cell Contents\n",
      "|-------------------------|\n",
      "|                       N |\n",
      "| Chi-square contribution |\n",
      "|           N / Row Total |\n",
      "|           N / Col Total |\n",
      "|         N / Table Total |\n",
      "|-------------------------|\n",
      "\n",
      " \n",
      "Total Observations in Table:  345313 \n",
      "\n",
      " \n",
      "                         | all.comments.df$visible \n",
      "all.comments.df$newcomer |         0 |         1 | Row Total | \n",
      "-------------------------|-----------|-----------|-----------|\n",
      "                   False |      2151 |    330800 |    332951 | \n",
      "                         |     2.745 |     0.019 |           | \n",
      "                         |     0.006 |     0.994 |     0.964 | \n",
      "                         |     0.930 |     0.964 |           | \n",
      "                         |     0.006 |     0.958 |           | \n",
      "-------------------------|-----------|-----------|-----------|\n",
      "                    True |       161 |     12201 |     12362 | \n",
      "                         |    73.944 |     0.498 |           | \n",
      "                         |     0.013 |     0.987 |     0.036 | \n",
      "                         |     0.070 |     0.036 |           | \n",
      "                         |     0.000 |     0.035 |           | \n",
      "-------------------------|-----------|-----------|-----------|\n",
      "            Column Total |      2312 |    343001 |    345313 | \n",
      "                         |     0.007 |     0.993 |           | \n",
      "-------------------------|-----------|-----------|-----------|\n",
      "\n",
      " \n"
     ]
    }
   ],
   "source": [
    "CrossTable(all.comments.df$newcomer, all.comments.df$visible)"
   ]
  },
  {
   "cell_type": "code",
   "execution_count": 4,
   "metadata": {},
   "outputs": [
    {
     "data": {
      "text/html": [
       "<table>\n",
       "<thead><tr><th scope=col>author.prev.comments</th><th scope=col>body.length</th><th scope=col>is_submitter</th><th scope=col>link_id</th><th scope=col>minutes.since.post.created</th><th scope=col>newcomer</th><th scope=col>post.assign.number</th><th scope=col>post.block.id</th><th scope=col>post.treatment</th><th scope=col>post.visible</th><th scope=col>subreddit_id</th><th scope=col>visible</th><th scope=col>weekend</th></tr></thead>\n",
       "<tbody>\n",
       "\t<tr><td>0         </td><td> 11       </td><td>True      </td><td>t3_c9vf2u </td><td>  8.766667</td><td>True      </td><td> 8        </td><td>block00002</td><td>0         </td><td>True      </td><td>t5_2rgs7  </td><td>1         </td><td>False     </td></tr>\n",
       "\t<tr><td>0         </td><td> 54       </td><td>True      </td><td>t3_c9vct6 </td><td> 31.333333</td><td>True      </td><td> 2        </td><td>block00001</td><td>1         </td><td>True      </td><td>t5_2rgs7  </td><td>1         </td><td>False     </td></tr>\n",
       "\t<tr><td>0         </td><td>351       </td><td>True      </td><td>t3_c9vggh </td><td>271.233333</td><td>True      </td><td>10        </td><td>block00002</td><td>1         </td><td>True      </td><td>t5_2rgs7  </td><td>1         </td><td>False     </td></tr>\n",
       "\t<tr><td>0         </td><td>167       </td><td>False     </td><td>t3_c9vo29 </td><td> 13.700000</td><td>True      </td><td>16        </td><td>block00003</td><td>0         </td><td>True      </td><td>t5_2rgs7  </td><td>1         </td><td>False     </td></tr>\n",
       "\t<tr><td>0         </td><td>204       </td><td>False     </td><td>t3_c9vc2f </td><td> 58.500000</td><td>True      </td><td> 4        </td><td>block00001</td><td>0         </td><td>True      </td><td>t5_2rgs7  </td><td>1         </td><td>False     </td></tr>\n",
       "\t<tr><td>0         </td><td> 76       </td><td>True      </td><td>t3_c9vz0e </td><td> 15.833333</td><td>True      </td><td>25        </td><td>block00005</td><td>0         </td><td>True      </td><td>t5_2rgs7  </td><td>1         </td><td>False     </td></tr>\n",
       "</tbody>\n",
       "</table>\n"
      ],
      "text/latex": [
       "\\begin{tabular}{r|lllllllllllll}\n",
       " author.prev.comments & body.length & is\\_submitter & link\\_id & minutes.since.post.created & newcomer & post.assign.number & post.block.id & post.treatment & post.visible & subreddit\\_id & visible & weekend\\\\\n",
       "\\hline\n",
       "\t 0           &  11         & True        & t3\\_c9vf2u &   8.766667  & True        &  8          & block00002  & 0           & True        & t5\\_2rgs7  & 1           & False      \\\\\n",
       "\t 0           &  54         & True        & t3\\_c9vct6 &  31.333333  & True        &  2          & block00001  & 1           & True        & t5\\_2rgs7  & 1           & False      \\\\\n",
       "\t 0           & 351         & True        & t3\\_c9vggh & 271.233333  & True        & 10          & block00002  & 1           & True        & t5\\_2rgs7  & 1           & False      \\\\\n",
       "\t 0           & 167         & False       & t3\\_c9vo29 &  13.700000  & True        & 16          & block00003  & 0           & True        & t5\\_2rgs7  & 1           & False      \\\\\n",
       "\t 0           & 204         & False       & t3\\_c9vc2f &  58.500000  & True        &  4          & block00001  & 0           & True        & t5\\_2rgs7  & 1           & False      \\\\\n",
       "\t 0           &  76         & True        & t3\\_c9vz0e &  15.833333  & True        & 25          & block00005  & 0           & True        & t5\\_2rgs7  & 1           & False      \\\\\n",
       "\\end{tabular}\n"
      ],
      "text/markdown": [
       "\n",
       "| author.prev.comments | body.length | is_submitter | link_id | minutes.since.post.created | newcomer | post.assign.number | post.block.id | post.treatment | post.visible | subreddit_id | visible | weekend |\n",
       "|---|---|---|---|---|---|---|---|---|---|---|---|---|\n",
       "| 0          |  11        | True       | t3_c9vf2u  |   8.766667 | True       |  8         | block00002 | 0          | True       | t5_2rgs7   | 1          | False      |\n",
       "| 0          |  54        | True       | t3_c9vct6  |  31.333333 | True       |  2         | block00001 | 1          | True       | t5_2rgs7   | 1          | False      |\n",
       "| 0          | 351        | True       | t3_c9vggh  | 271.233333 | True       | 10         | block00002 | 1          | True       | t5_2rgs7   | 1          | False      |\n",
       "| 0          | 167        | False      | t3_c9vo29  |  13.700000 | True       | 16         | block00003 | 0          | True       | t5_2rgs7   | 1          | False      |\n",
       "| 0          | 204        | False      | t3_c9vc2f  |  58.500000 | True       |  4         | block00001 | 0          | True       | t5_2rgs7   | 1          | False      |\n",
       "| 0          |  76        | True       | t3_c9vz0e  |  15.833333 | True       | 25         | block00005 | 0          | True       | t5_2rgs7   | 1          | False      |\n",
       "\n"
      ],
      "text/plain": [
       "  author.prev.comments body.length is_submitter link_id  \n",
       "1 0                     11         True         t3_c9vf2u\n",
       "2 0                     54         True         t3_c9vct6\n",
       "3 0                    351         True         t3_c9vggh\n",
       "4 0                    167         False        t3_c9vo29\n",
       "5 0                    204         False        t3_c9vc2f\n",
       "6 0                     76         True         t3_c9vz0e\n",
       "  minutes.since.post.created newcomer post.assign.number post.block.id\n",
       "1   8.766667                 True      8                 block00002   \n",
       "2  31.333333                 True      2                 block00001   \n",
       "3 271.233333                 True     10                 block00002   \n",
       "4  13.700000                 True     16                 block00003   \n",
       "5  58.500000                 True      4                 block00001   \n",
       "6  15.833333                 True     25                 block00005   \n",
       "  post.treatment post.visible subreddit_id visible weekend\n",
       "1 0              True         t5_2rgs7     1       False  \n",
       "2 1              True         t5_2rgs7     1       False  \n",
       "3 1              True         t5_2rgs7     1       False  \n",
       "4 0              True         t5_2rgs7     1       False  \n",
       "5 0              True         t5_2rgs7     1       False  \n",
       "6 0              True         t5_2rgs7     1       False  "
      ]
     },
     "metadata": {},
     "output_type": "display_data"
    }
   ],
   "source": [
    "head(comments.df)"
   ]
  },
  {
   "cell_type": "code",
   "execution_count": 5,
   "metadata": {},
   "outputs": [
    {
     "data": {
      "text/html": [
       "<table>\n",
       "<thead><tr><th scope=col>author.prev.comments</th><th scope=col>body.length</th><th scope=col>is_submitter</th><th scope=col>link_id</th><th scope=col>minutes.since.post.created</th><th scope=col>newcomer</th><th scope=col>post.assign.number</th><th scope=col>post.block.id</th><th scope=col>post.treatment</th><th scope=col>post.visible</th><th scope=col>subreddit_id</th><th scope=col>visible</th><th scope=col>weekend</th></tr></thead>\n",
       "<tbody>\n",
       "\t<tr><td>  63      </td><td> 37       </td><td>False     </td><td>t3_c9va6o </td><td>0.600000  </td><td>False     </td><td>5         </td><td>block00001</td><td>1         </td><td>True      </td><td>t5_2rgs7  </td><td>1         </td><td>False     </td></tr>\n",
       "\t<tr><td> 273      </td><td>  5       </td><td>False     </td><td>t3_c9va6o </td><td>0.900000  </td><td>False     </td><td>5         </td><td>block00001</td><td>1         </td><td>True      </td><td>t5_2rgs7  </td><td>1         </td><td>False     </td></tr>\n",
       "\t<tr><td>1154      </td><td>106       </td><td>False     </td><td>t3_c9va6o </td><td>1.466667  </td><td>False     </td><td>5         </td><td>block00001</td><td>1         </td><td>True      </td><td>t5_2rgs7  </td><td>1         </td><td>False     </td></tr>\n",
       "\t<tr><td>   3      </td><td>291       </td><td>True      </td><td>t3_c9va6o </td><td>5.666667  </td><td>False     </td><td>5         </td><td>block00001</td><td>1         </td><td>True      </td><td>t5_2rgs7  </td><td>1         </td><td>False     </td></tr>\n",
       "\t<tr><td> 372      </td><td>  3       </td><td>False     </td><td>t3_c9va6o </td><td>7.633333  </td><td>False     </td><td>5         </td><td>block00001</td><td>1         </td><td>True      </td><td>t5_2rgs7  </td><td>1         </td><td>False     </td></tr>\n",
       "\t<tr><td>1385      </td><td> 62       </td><td>False     </td><td>t3_c9vda9 </td><td>0.500000  </td><td>False     </td><td>1         </td><td>block00001</td><td>0         </td><td>False     </td><td>t5_2rgs7  </td><td>1         </td><td>False     </td></tr>\n",
       "</tbody>\n",
       "</table>\n"
      ],
      "text/latex": [
       "\\begin{tabular}{r|lllllllllllll}\n",
       " author.prev.comments & body.length & is\\_submitter & link\\_id & minutes.since.post.created & newcomer & post.assign.number & post.block.id & post.treatment & post.visible & subreddit\\_id & visible & weekend\\\\\n",
       "\\hline\n",
       "\t   63        &  37         & False       & t3\\_c9va6o & 0.600000    & False       & 5           & block00001  & 1           & True        & t5\\_2rgs7  & 1           & False      \\\\\n",
       "\t  273        &   5         & False       & t3\\_c9va6o & 0.900000    & False       & 5           & block00001  & 1           & True        & t5\\_2rgs7  & 1           & False      \\\\\n",
       "\t 1154        & 106         & False       & t3\\_c9va6o & 1.466667    & False       & 5           & block00001  & 1           & True        & t5\\_2rgs7  & 1           & False      \\\\\n",
       "\t    3        & 291         & True        & t3\\_c9va6o & 5.666667    & False       & 5           & block00001  & 1           & True        & t5\\_2rgs7  & 1           & False      \\\\\n",
       "\t  372        &   3         & False       & t3\\_c9va6o & 7.633333    & False       & 5           & block00001  & 1           & True        & t5\\_2rgs7  & 1           & False      \\\\\n",
       "\t 1385        &  62         & False       & t3\\_c9vda9 & 0.500000    & False       & 1           & block00001  & 0           & False       & t5\\_2rgs7  & 1           & False      \\\\\n",
       "\\end{tabular}\n"
      ],
      "text/markdown": [
       "\n",
       "| author.prev.comments | body.length | is_submitter | link_id | minutes.since.post.created | newcomer | post.assign.number | post.block.id | post.treatment | post.visible | subreddit_id | visible | weekend |\n",
       "|---|---|---|---|---|---|---|---|---|---|---|---|---|\n",
       "|   63       |  37        | False      | t3_c9va6o  | 0.600000   | False      | 5          | block00001 | 1          | True       | t5_2rgs7   | 1          | False      |\n",
       "|  273       |   5        | False      | t3_c9va6o  | 0.900000   | False      | 5          | block00001 | 1          | True       | t5_2rgs7   | 1          | False      |\n",
       "| 1154       | 106        | False      | t3_c9va6o  | 1.466667   | False      | 5          | block00001 | 1          | True       | t5_2rgs7   | 1          | False      |\n",
       "|    3       | 291        | True       | t3_c9va6o  | 5.666667   | False      | 5          | block00001 | 1          | True       | t5_2rgs7   | 1          | False      |\n",
       "|  372       |   3        | False      | t3_c9va6o  | 7.633333   | False      | 5          | block00001 | 1          | True       | t5_2rgs7   | 1          | False      |\n",
       "| 1385       |  62        | False      | t3_c9vda9  | 0.500000   | False      | 1          | block00001 | 0          | False      | t5_2rgs7   | 1          | False      |\n",
       "\n"
      ],
      "text/plain": [
       "  author.prev.comments body.length is_submitter link_id  \n",
       "1   63                  37         False        t3_c9va6o\n",
       "2  273                   5         False        t3_c9va6o\n",
       "3 1154                 106         False        t3_c9va6o\n",
       "4    3                 291         True         t3_c9va6o\n",
       "5  372                   3         False        t3_c9va6o\n",
       "6 1385                  62         False        t3_c9vda9\n",
       "  minutes.since.post.created newcomer post.assign.number post.block.id\n",
       "1 0.600000                   False    5                  block00001   \n",
       "2 0.900000                   False    5                  block00001   \n",
       "3 1.466667                   False    5                  block00001   \n",
       "4 5.666667                   False    5                  block00001   \n",
       "5 7.633333                   False    5                  block00001   \n",
       "6 0.500000                   False    1                  block00001   \n",
       "  post.treatment post.visible subreddit_id visible weekend\n",
       "1 1              True         t5_2rgs7     1       False  \n",
       "2 1              True         t5_2rgs7     1       False  \n",
       "3 1              True         t5_2rgs7     1       False  \n",
       "4 1              True         t5_2rgs7     1       False  \n",
       "5 1              True         t5_2rgs7     1       False  \n",
       "6 0              False        t5_2rgs7     1       False  "
      ]
     },
     "metadata": {},
     "output_type": "display_data"
    }
   ],
   "source": [
    "head(all.comments.df)"
   ]
  },
  {
   "cell_type": "code",
   "execution_count": 6,
   "metadata": {},
   "outputs": [
    {
     "data": {
      "text/html": [
       "<table>\n",
       "<thead><tr><th scope=col>block.id</th><th scope=col>created</th><th scope=col>newcomer.comments</th><th scope=col>newcomer.comments.removed</th><th scope=col>num.commenters</th><th scope=col>num.comments</th><th scope=col>num.comments.removed</th><th scope=col>treatment</th><th scope=col>visible</th><th scope=col>weekday</th><th scope=col>weekend</th></tr></thead>\n",
       "<tbody>\n",
       "\t<tr><td>block01039         </td><td>2019-07-25 22:33:59</td><td>6                  </td><td>1                  </td><td>102                </td><td>197                </td><td>5                  </td><td>0                  </td><td>True               </td><td>3                  </td><td>False              </td></tr>\n",
       "\t<tr><td>block00609         </td><td>2019-07-14 14:55:39</td><td>0                  </td><td>0                  </td><td> 14                </td><td> 15                </td><td>1                  </td><td>1                  </td><td>True               </td><td>6                  </td><td>True               </td></tr>\n",
       "\t<tr><td>block00152         </td><td>2019-07-08 04:40:04</td><td>0                  </td><td>0                  </td><td>  4                </td><td>  4                </td><td>0                  </td><td>0                  </td><td>False              </td><td>0                  </td><td>False              </td></tr>\n",
       "\t<tr><td>block01969         </td><td>2019-08-22 01:50:22</td><td>0                  </td><td>0                  </td><td>  6                </td><td>  9                </td><td>0                  </td><td>1                  </td><td>False              </td><td>3                  </td><td>False              </td></tr>\n",
       "\t<tr><td>block00430         </td><td>2019-07-11 18:51:52</td><td>0                  </td><td>0                  </td><td>  4                </td><td>  4                </td><td>0                  </td><td>0                  </td><td>True               </td><td>3                  </td><td>False              </td></tr>\n",
       "\t<tr><td>block01646         </td><td>2019-08-11 16:15:46</td><td>0                  </td><td>0                  </td><td>  2                </td><td>  2                </td><td>0                  </td><td>1                  </td><td>True               </td><td>6                  </td><td>True               </td></tr>\n",
       "</tbody>\n",
       "</table>\n"
      ],
      "text/latex": [
       "\\begin{tabular}{r|lllllllllll}\n",
       " block.id & created & newcomer.comments & newcomer.comments.removed & num.commenters & num.comments & num.comments.removed & treatment & visible & weekday & weekend\\\\\n",
       "\\hline\n",
       "\t block01039          & 2019-07-25 22:33:59 & 6                   & 1                   & 102                 & 197                 & 5                   & 0                   & True                & 3                   & False              \\\\\n",
       "\t block00609          & 2019-07-14 14:55:39 & 0                   & 0                   &  14                 &  15                 & 1                   & 1                   & True                & 6                   & True               \\\\\n",
       "\t block00152          & 2019-07-08 04:40:04 & 0                   & 0                   &   4                 &   4                 & 0                   & 0                   & False               & 0                   & False              \\\\\n",
       "\t block01969          & 2019-08-22 01:50:22 & 0                   & 0                   &   6                 &   9                 & 0                   & 1                   & False               & 3                   & False              \\\\\n",
       "\t block00430          & 2019-07-11 18:51:52 & 0                   & 0                   &   4                 &   4                 & 0                   & 0                   & True                & 3                   & False              \\\\\n",
       "\t block01646          & 2019-08-11 16:15:46 & 0                   & 0                   &   2                 &   2                 & 0                   & 1                   & True                & 6                   & True               \\\\\n",
       "\\end{tabular}\n"
      ],
      "text/markdown": [
       "\n",
       "| block.id | created | newcomer.comments | newcomer.comments.removed | num.commenters | num.comments | num.comments.removed | treatment | visible | weekday | weekend |\n",
       "|---|---|---|---|---|---|---|---|---|---|---|\n",
       "| block01039          | 2019-07-25 22:33:59 | 6                   | 1                   | 102                 | 197                 | 5                   | 0                   | True                | 3                   | False               |\n",
       "| block00609          | 2019-07-14 14:55:39 | 0                   | 0                   |  14                 |  15                 | 1                   | 1                   | True                | 6                   | True                |\n",
       "| block00152          | 2019-07-08 04:40:04 | 0                   | 0                   |   4                 |   4                 | 0                   | 0                   | False               | 0                   | False               |\n",
       "| block01969          | 2019-08-22 01:50:22 | 0                   | 0                   |   6                 |   9                 | 0                   | 1                   | False               | 3                   | False               |\n",
       "| block00430          | 2019-07-11 18:51:52 | 0                   | 0                   |   4                 |   4                 | 0                   | 0                   | True                | 3                   | False               |\n",
       "| block01646          | 2019-08-11 16:15:46 | 0                   | 0                   |   2                 |   2                 | 0                   | 1                   | True                | 6                   | True                |\n",
       "\n"
      ],
      "text/plain": [
       "  block.id   created             newcomer.comments newcomer.comments.removed\n",
       "1 block01039 2019-07-25 22:33:59 6                 1                        \n",
       "2 block00609 2019-07-14 14:55:39 0                 0                        \n",
       "3 block00152 2019-07-08 04:40:04 0                 0                        \n",
       "4 block01969 2019-08-22 01:50:22 0                 0                        \n",
       "5 block00430 2019-07-11 18:51:52 0                 0                        \n",
       "6 block01646 2019-08-11 16:15:46 0                 0                        \n",
       "  num.commenters num.comments num.comments.removed treatment visible weekday\n",
       "1 102            197          5                    0         True    3      \n",
       "2  14             15          1                    1         True    6      \n",
       "3   4              4          0                    0         False   0      \n",
       "4   6              9          0                    1         False   3      \n",
       "5   4              4          0                    0         True    3      \n",
       "6   2              2          0                    1         True    6      \n",
       "  weekend\n",
       "1 False  \n",
       "2 True   \n",
       "3 False  \n",
       "4 False  \n",
       "5 False  \n",
       "6 True   "
      ]
     },
     "metadata": {},
     "output_type": "display_data"
    }
   ],
   "source": [
    "head(posts.df)"
   ]
  },
  {
   "cell_type": "markdown",
   "metadata": {},
   "source": [
    "# Drop unbalanced randomization blocks"
   ]
  },
  {
   "cell_type": "code",
   "execution_count": 7,
   "metadata": {},
   "outputs": [],
   "source": [
    "posts.df$counter <- 1\n",
    "block.counts <- aggregate(posts.df[c(\"counter\")], by=list(posts.df$block.id), FUN=sum)\n",
    "unbalanced.blocks <- subset(block.counts, counter<6)$Group.1\n",
    "\n",
    "## remove all posts in unbalanced blocks\n",
    "posts.df <- subset(posts.df, (block.id %in% unbalanced.blocks)!=TRUE)\n",
    "\n",
    "## remove all comments in unbalanced blocks\n",
    "comments.df <- subset(comments.df, (post.block.id %in% unbalanced.blocks)!=TRUE)\n",
    "all.comments.df <- subset(all.comments.df, (post.block.id %in% unbalanced.blocks)!=TRUE)"
   ]
  },
  {
   "cell_type": "code",
   "execution_count": 8,
   "metadata": {},
   "outputs": [
    {
     "data": {
      "text/html": [
       "12096"
      ],
      "text/latex": [
       "12096"
      ],
      "text/markdown": [
       "12096"
      ],
      "text/plain": [
       "[1] 12096"
      ]
     },
     "metadata": {},
     "output_type": "display_data"
    },
    {
     "data": {
      "text/html": [
       "12362"
      ],
      "text/latex": [
       "12362"
      ],
      "text/markdown": [
       "12362"
      ],
      "text/plain": [
       "[1] 12362"
      ]
     },
     "metadata": {},
     "output_type": "display_data"
    },
    {
     "data": {
      "text/html": [
       "345313"
      ],
      "text/latex": [
       "345313"
      ],
      "text/markdown": [
       "345313"
      ],
      "text/plain": [
       "[1] 345313"
      ]
     },
     "metadata": {},
     "output_type": "display_data"
    }
   ],
   "source": [
    "nrow(posts.df)\n",
    "nrow(comments.df)\n",
    "nrow(all.comments.df)"
   ]
  },
  {
   "cell_type": "markdown",
   "metadata": {},
   "source": [
    "# Summary Statistics"
   ]
  },
  {
   "cell_type": "code",
   "execution_count": 9,
   "metadata": {},
   "outputs": [
    {
     "data": {
      "text/html": [
       "<dl class=dl-horizontal>\n",
       "\t<dt>0</dt>\n",
       "\t\t<dd>6048</dd>\n",
       "\t<dt>1</dt>\n",
       "\t\t<dd>6048</dd>\n",
       "</dl>\n"
      ],
      "text/latex": [
       "\\begin{description*}\n",
       "\\item[0] 6048\n",
       "\\item[1] 6048\n",
       "\\end{description*}\n"
      ],
      "text/markdown": [
       "0\n",
       ":   60481\n",
       ":   6048\n",
       "\n"
      ],
      "text/plain": [
       "   0    1 \n",
       "6048 6048 "
      ]
     },
     "metadata": {},
     "output_type": "display_data"
    }
   ],
   "source": [
    "summary(factor(posts.df$treatment))"
   ]
  },
  {
   "cell_type": "code",
   "execution_count": 10,
   "metadata": {},
   "outputs": [
    {
     "data": {
      "text/html": [
       "<dl class=dl-horizontal>\n",
       "\t<dt>False</dt>\n",
       "\t\t<dd>1092</dd>\n",
       "\t<dt>True</dt>\n",
       "\t\t<dd>11004</dd>\n",
       "</dl>\n"
      ],
      "text/latex": [
       "\\begin{description*}\n",
       "\\item[False] 1092\n",
       "\\item[True] 11004\n",
       "\\end{description*}\n"
      ],
      "text/markdown": [
       "False\n",
       ":   1092True\n",
       ":   11004\n",
       "\n"
      ],
      "text/plain": [
       "False  True \n",
       " 1092 11004 "
      ]
     },
     "metadata": {},
     "output_type": "display_data"
    }
   ],
   "source": [
    "summary(factor(posts.df$visible))"
   ]
  },
  {
   "cell_type": "code",
   "execution_count": 11,
   "metadata": {},
   "outputs": [
    {
     "data": {
      "text/html": [
       "<dl class=dl-horizontal>\n",
       "\t<dt>False</dt>\n",
       "\t\t<dd>10301</dd>\n",
       "\t<dt>True</dt>\n",
       "\t\t<dd>1795</dd>\n",
       "</dl>\n"
      ],
      "text/latex": [
       "\\begin{description*}\n",
       "\\item[False] 10301\n",
       "\\item[True] 1795\n",
       "\\end{description*}\n"
      ],
      "text/markdown": [
       "False\n",
       ":   10301True\n",
       ":   1795\n",
       "\n"
      ],
      "text/plain": [
       "False  True \n",
       "10301  1795 "
      ]
     },
     "metadata": {},
     "output_type": "display_data"
    }
   ],
   "source": [
    "summary(factor(posts.df$weekend))"
   ]
  },
  {
   "cell_type": "code",
   "execution_count": 12,
   "metadata": {},
   "outputs": [
    {
     "data": {
      "text/html": [
       "<dl class=dl-horizontal>\n",
       "\t<dt>0</dt>\n",
       "\t\t<dd>6336</dd>\n",
       "\t<dt>1</dt>\n",
       "\t\t<dd>6026</dd>\n",
       "</dl>\n"
      ],
      "text/latex": [
       "\\begin{description*}\n",
       "\\item[0] 6336\n",
       "\\item[1] 6026\n",
       "\\end{description*}\n"
      ],
      "text/markdown": [
       "0\n",
       ":   63361\n",
       ":   6026\n",
       "\n"
      ],
      "text/plain": [
       "   0    1 \n",
       "6336 6026 "
      ]
     },
     "metadata": {},
     "output_type": "display_data"
    }
   ],
   "source": [
    "summary(factor(comments.df$post.treatment))"
   ]
  },
  {
   "cell_type": "code",
   "execution_count": 13,
   "metadata": {},
   "outputs": [
    {
     "data": {
      "text/html": [
       "<dl class=dl-horizontal>\n",
       "\t<dt>0</dt>\n",
       "\t\t<dd>161</dd>\n",
       "\t<dt>1</dt>\n",
       "\t\t<dd>12201</dd>\n",
       "</dl>\n"
      ],
      "text/latex": [
       "\\begin{description*}\n",
       "\\item[0] 161\n",
       "\\item[1] 12201\n",
       "\\end{description*}\n"
      ],
      "text/markdown": [
       "0\n",
       ":   1611\n",
       ":   12201\n",
       "\n"
      ],
      "text/plain": [
       "    0     1 \n",
       "  161 12201 "
      ]
     },
     "metadata": {},
     "output_type": "display_data"
    }
   ],
   "source": [
    "summary(factor(comments.df$visible))"
   ]
  },
  {
   "cell_type": "code",
   "execution_count": 14,
   "metadata": {},
   "outputs": [
    {
     "data": {
      "text/html": [
       "<dl class=dl-horizontal>\n",
       "\t<dt>0</dt>\n",
       "\t\t<dd>2312</dd>\n",
       "\t<dt>1</dt>\n",
       "\t\t<dd>343001</dd>\n",
       "</dl>\n"
      ],
      "text/latex": [
       "\\begin{description*}\n",
       "\\item[0] 2312\n",
       "\\item[1] 343001\n",
       "\\end{description*}\n"
      ],
      "text/markdown": [
       "0\n",
       ":   23121\n",
       ":   343001\n",
       "\n"
      ],
      "text/plain": [
       "     0      1 \n",
       "  2312 343001 "
      ]
     },
     "metadata": {},
     "output_type": "display_data"
    }
   ],
   "source": [
    "summary(factor(all.comments.df$visible))"
   ]
  },
  {
   "cell_type": "code",
   "execution_count": 15,
   "metadata": {},
   "outputs": [
    {
     "data": {
      "text/html": [
       "<dl class=dl-horizontal>\n",
       "\t<dt>False</dt>\n",
       "\t\t<dd>332951</dd>\n",
       "\t<dt>True</dt>\n",
       "\t\t<dd>12362</dd>\n",
       "</dl>\n"
      ],
      "text/latex": [
       "\\begin{description*}\n",
       "\\item[False] 332951\n",
       "\\item[True] 12362\n",
       "\\end{description*}\n"
      ],
      "text/markdown": [
       "False\n",
       ":   332951True\n",
       ":   12362\n",
       "\n"
      ],
      "text/plain": [
       " False   True \n",
       "332951  12362 "
      ]
     },
     "metadata": {},
     "output_type": "display_data"
    }
   ],
   "source": [
    "summary(factor(all.comments.df$newcomer))"
   ]
  },
  {
   "cell_type": "code",
   "execution_count": 16,
   "metadata": {},
   "outputs": [
    {
     "data": {},
     "metadata": {},
     "output_type": "display_data"
    },
    {
     "data": {
      "image/png": "[encoded data removed]",
      "text/plain": [
       "plot without title"
      ]
     },
     "metadata": {},
     "output_type": "display_data"
    }
   ],
   "source": [
    "ggplot(all.comments.df, aes(log1p(author.prev.comments))) +\n",
    "    geom_histogram(binwidth=1, fill=catpalette[3]) +\n",
    "    cat.theme"
   ]
  },
  {
   "cell_type": "markdown",
   "metadata": {},
   "source": [
    "# Main Findings"
   ]
  },
  {
   "cell_type": "code",
   "execution_count": 17,
   "metadata": {},
   "outputs": [
    {
     "data": {
      "text/plain": [
       "\n",
       "Call:\n",
       "glm.nb(formula = newcomer.comments ~ treatment, data = posts.df, \n",
       "    init.theta = 0.2858542295, link = log)\n",
       "\n",
       "Deviance Residuals: \n",
       "    Min       1Q   Median       3Q      Max  \n",
       "-0.9383  -0.9383  -0.9263   0.0017   9.3186  \n",
       "\n",
       "Coefficients:\n",
       "            Estimate Std. Error z value Pr(>|z|)  \n",
       "(Intercept)  0.04652    0.02713   1.714   0.0864 .\n",
       "treatment   -0.05016    0.03848  -1.304   0.1923  \n",
       "---\n",
       "Signif. codes:  0 ‘***’ 0.001 ‘**’ 0.01 ‘*’ 0.05 ‘.’ 0.1 ‘ ’ 1\n",
       "\n",
       "(Dispersion parameter for Negative Binomial(0.2859) family taken to be 1)\n",
       "\n",
       "    Null deviance: 9222.7  on 12095  degrees of freedom\n",
       "Residual deviance: 9221.0  on 12094  degrees of freedom\n",
       "AIC: 30909\n",
       "\n",
       "Number of Fisher Scoring iterations: 1\n",
       "\n",
       "\n",
       "              Theta:  0.28585 \n",
       "          Std. Err.:  0.00638 \n",
       "\n",
       " 2 x log-likelihood:  -30902.76300 "
      ]
     },
     "metadata": {},
     "output_type": "display_data"
    },
    {
     "data": {
      "text/plain": [
       "\n",
       "Call:\n",
       "glm.nb(formula = newcomer.comments.removed ~ treatment, data = posts.df, \n",
       "    init.theta = 0.01734774544, link = log)\n",
       "\n",
       "Deviance Residuals: \n",
       "    Min       1Q   Median       3Q      Max  \n",
       "-0.1415  -0.1415  -0.1396  -0.1396   3.8702  \n",
       "\n",
       "Coefficients:\n",
       "            Estimate Std. Error z value Pr(>|z|)    \n",
       "(Intercept) -4.33804    0.14896 -29.122   <2e-16 ***\n",
       "treatment    0.03727    0.20956   0.178    0.859    \n",
       "---\n",
       "Signif. codes:  0 ‘***’ 0.001 ‘**’ 0.01 ‘*’ 0.05 ‘.’ 0.1 ‘ ’ 1\n",
       "\n",
       "(Dispersion parameter for Negative Binomial(0.0173) family taken to be 1)\n",
       "\n",
       "    Null deviance: 486.03  on 12095  degrees of freedom\n",
       "Residual deviance: 486.00  on 12094  degrees of freedom\n",
       "AIC: 1518.7\n",
       "\n",
       "Number of Fisher Scoring iterations: 1\n",
       "\n",
       "\n",
       "              Theta:  0.01735 \n",
       "          Std. Err.:  0.00328 \n",
       "\n",
       " 2 x log-likelihood:  -1512.70600 "
      ]
     },
     "metadata": {},
     "output_type": "display_data"
    }
   ],
   "source": [
    "summary(m.post.new <- glm.nb(newcomer.comments ~ treatment, data=posts.df))\n",
    "summary(m.post.new.removed <- glm.nb(newcomer.comments.removed ~ treatment, data=posts.df))"
   ]
  },
  {
   "cell_type": "code",
   "execution_count": 18,
   "metadata": {},
   "outputs": [
    {
     "name": "stderr",
     "output_type": "stream",
     "text": [
      "Warning message:\n",
      "“Assigning non-quosure objects to quosure lists is deprecated as of rlang 0.3.0.\n",
      "Please coerce to a bare list beforehand with `as.list()`\n",
      "This warning is displayed once per session.”"
     ]
    },
    {
     "data": {
      "text/plain": [
       "\n",
       "Call:\n",
       "lm_robust(formula = visible ~ post.treatment, data = comments.df, \n",
       "    clusters = comments.df$post.assign.number)\n",
       "\n",
       "Standard error type:  CR2 \n",
       "\n",
       "Coefficients:\n",
       "                Estimate Std. Error  t value Pr(>|t|)  CI Lower CI Upper    DF\n",
       "(Intercept)     0.987532   0.002230 442.9099   0.0000  0.983142 0.991921 270.1\n",
       "post.treatment -0.001139   0.002863  -0.3979   0.6908 -0.006761 0.004483 669.2\n",
       "\n",
       "Multiple R-squared:  2.523e-05 ,\tAdjusted R-squared:  -5.568e-05 \n",
       "F-statistic: 0.1583 on 1 and 4602 DF,  p-value: 0.6907"
      ]
     },
     "metadata": {},
     "output_type": "display_data"
    }
   ],
   "source": [
    "## We didn't anticipate that difference in means couldn't handle blocks of different sizes\n",
    "## so we use lm_robust from the estimatr package\n",
    "\n",
    "summary(\n",
    "    m.newcomer.visible <- lm_robust(visible ~ post.treatment, data=comments.df,\n",
    "          clusters=comments.df$post.assign.number)\n",
    "    )"
   ]
  },
  {
   "cell_type": "markdown",
   "metadata": {},
   "source": [
    "# Plot Results"
   ]
  },
  {
   "cell_type": "code",
   "execution_count": 19,
   "metadata": {},
   "outputs": [],
   "source": [
    "options(repr.plot.width = 8, repr.plot.height = 5, repr.plot.res = 100)"
   ]
  },
  {
   "cell_type": "markdown",
   "metadata": {},
   "source": [
    "## Plot Negative Binomial Models"
   ]
  },
  {
   "cell_type": "code",
   "execution_count": 20,
   "metadata": {},
   "outputs": [
    {
     "data": {
      "text/html": [
       "<strong>Estimate:</strong> -0.0501642138040366"
      ],
      "text/latex": [
       "\\textbf{Estimate:} -0.0501642138040366"
      ],
      "text/markdown": [
       "**Estimate:** -0.0501642138040366"
      ],
      "text/plain": [
       "   Estimate \n",
       "-0.05016421 "
      ]
     },
     "metadata": {},
     "output_type": "display_data"
    }
   ],
   "source": [
    "summary(m.post.new)$coefficients['treatment',]['Estimate']"
   ]
  },
  {
   "cell_type": "code",
   "execution_count": 21,
   "metadata": {},
   "outputs": [],
   "source": [
    "m.post.new.c <- summary(m.post.new)$coefficients\n",
    "m.post.new.removed.c <- summary(m.post.new.removed)$coefficients\n",
    "\n",
    "critval = 1.96\n",
    "\n",
    "nb.results.df <- data.frame(\n",
    "    model = c(\"newcomers\", \"newcomer removed\"),\n",
    "    fit   = c(\n",
    "              exp(m.post.new.c['treatment',]['Estimate']),\n",
    "              exp(m.post.new.removed.c['treatment',]['Estimate'])\n",
    "    ),\n",
    "    upr   = c(\n",
    "              exp(m.post.new.c['treatment',]['Estimate'] + m.post.new.c['treatment',]['Std. Error'] * critval),\n",
    "              exp(m.post.new.removed.c['treatment',]['Estimate'] + m.post.new.removed.c['treatment',]['Std. Error'] * critval)\n",
    "    ),\n",
    "    lwr   = c(\n",
    "              exp(m.post.new.c['treatment',]['Estimate'] - m.post.new.c['treatment',]['Std. Error'] * critval),\n",
    "              exp(m.post.new.removed.c['treatment',]['Estimate'] - m.post.new.removed.c['treatment',]['Std. Error'] * critval)\n",
    "    )\n",
    "\n",
    "\n",
    ")\n",
    "\n",
    "# m.post.new.df     <- data.frame(treatment=c(0,1))\n",
    "# m.post.new.removed.df <- data.frame(treatment=c(0,1))\n",
    "\n",
    "# m.post.new.df <- cbind(m.post.new.df, \n",
    "#                        predict(m.post.new, m.post.new.df, type=\"response\", se.fit=TRUE))\n",
    "\n",
    "# m.post.new.removed.df <- cbind(m.post.new.removed.df, \n",
    "#                        predict(m.post.new.removed, m.post.new.removed.df, type=\"response\", se.fit=TRUE))"
   ]
  },
  {
   "cell_type": "code",
   "execution_count": 22,
   "metadata": {},
   "outputs": [
    {
     "data": {
      "text/html": [
       "<table>\n",
       "<thead><tr><th scope=col>model</th><th scope=col>fit</th><th scope=col>upr</th><th scope=col>lwr</th></tr></thead>\n",
       "<tbody>\n",
       "\t<tr><td>newcomers       </td><td>0.9510732       </td><td>1.025576        </td><td>0.8819829       </td></tr>\n",
       "\t<tr><td>newcomer removed</td><td>1.0379747       </td><td>1.565195        </td><td>0.6883434       </td></tr>\n",
       "</tbody>\n",
       "</table>\n"
      ],
      "text/latex": [
       "\\begin{tabular}{r|llll}\n",
       " model & fit & upr & lwr\\\\\n",
       "\\hline\n",
       "\t newcomers        & 0.9510732        & 1.025576         & 0.8819829       \\\\\n",
       "\t newcomer removed & 1.0379747        & 1.565195         & 0.6883434       \\\\\n",
       "\\end{tabular}\n"
      ],
      "text/markdown": [
       "\n",
       "| model | fit | upr | lwr |\n",
       "|---|---|---|---|\n",
       "| newcomers        | 0.9510732        | 1.025576         | 0.8819829        |\n",
       "| newcomer removed | 1.0379747        | 1.565195         | 0.6883434        |\n",
       "\n"
      ],
      "text/plain": [
       "  model            fit       upr      lwr      \n",
       "1 newcomers        0.9510732 1.025576 0.8819829\n",
       "2 newcomer removed 1.0379747 1.565195 0.6883434"
      ]
     },
     "metadata": {},
     "output_type": "display_data"
    }
   ],
   "source": [
    "nb.results.df"
   ]
  },
  {
   "cell_type": "code",
   "execution_count": 23,
   "metadata": {},
   "outputs": [
    {
     "data": {},
     "metadata": {},
     "output_type": "display_data"
    },
    {
     "data": {
      "image/png": "[encoded data removed]",
      "text/plain": [
       "plot without title"
      ]
     },
     "metadata": {},
     "output_type": "display_data"
    }
   ],
   "source": [
    "ggplot(nb.results.df, aes(factor(model), fit, color=factor(model))) +\n",
    "    geom_hline(yintercept=1, linetype=\"dashed\", size=0.5, color=\"#000000\") +\n",
    "    geom_point(size=2) +\n",
    "    geom_errorbar(aes(ymax=nb.results.df$upr,\n",
    "                      ymin=nb.results.df$lwr),\n",
    "                  size=1, width=0.1) +\n",
    "    scale_colour_manual(values=catpalette, name=\"Estimated Effect\") +\n",
    "    ylab(\"\") +\n",
    "    ggtitle(paste(\"Posting the rules to discussions in r/ffxiv did not have a detectable effect on\\n\",\n",
    "                  \"the number of newcomers or the number of newcomer comments removed on average\", sep=\"\")) +\n",
    "    xlab(paste(\"Results of a randomized trial in r/ffxiv involving \", prettyNum(nrow(posts.df), big.mark=\",\"),\n",
    "               \" posts from 07-06-2019 to 08-24-2019.\\nResults of a negative binomial models.\",end.caption.text, sep=\"\")) +\n",
    "    cat.theme"
   ]
  },
  {
   "cell_type": "markdown",
   "metadata": {},
   "source": [
    "## Chance of Newcomer Comments to be Removed"
   ]
  },
  {
   "cell_type": "code",
   "execution_count": 24,
   "metadata": {},
   "outputs": [
    {
     "data": {
      "text/html": [
       "<table>\n",
       "<thead><tr><th scope=col>post.treatment</th><th scope=col>fit.fit</th><th scope=col>fit.lwr</th><th scope=col>fit.upr</th></tr></thead>\n",
       "<tbody>\n",
       "\t<tr><td>0        </td><td>0.9875316</td><td>0.7652384</td><td>1.209825 </td></tr>\n",
       "\t<tr><td>1        </td><td>0.9863923</td><td>0.7641142</td><td>1.208670 </td></tr>\n",
       "</tbody>\n",
       "</table>\n"
      ],
      "text/latex": [
       "\\begin{tabular}{r|llll}\n",
       " post.treatment & fit.fit & fit.lwr & fit.upr\\\\\n",
       "\\hline\n",
       "\t 0         & 0.9875316 & 0.7652384 & 1.209825 \\\\\n",
       "\t 1         & 0.9863923 & 0.7641142 & 1.208670 \\\\\n",
       "\\end{tabular}\n"
      ],
      "text/markdown": [
       "\n",
       "| post.treatment | fit.fit | fit.lwr | fit.upr |\n",
       "|---|---|---|---|\n",
       "| 0         | 0.9875316 | 0.7652384 | 1.209825  |\n",
       "| 1         | 0.9863923 | 0.7641142 | 1.208670  |\n",
       "\n"
      ],
      "text/plain": [
       "  post.treatment fit.fit   fit.lwr   fit.upr \n",
       "1 0              0.9875316 0.7652384 1.209825\n",
       "2 1              0.9863923 0.7641142 1.208670"
      ]
     },
     "metadata": {},
     "output_type": "display_data"
    },
    {
     "data": {},
     "metadata": {},
     "output_type": "display_data"
    },
    {
     "data": {
      "image/png": "[encoded data removed]",
      "text/plain": [
       "plot without title"
      ]
     },
     "metadata": {},
     "output_type": "display_data"
    }
   ],
   "source": [
    "newcomer.visible.df <- data.frame(post.treatment=c(0,1))\n",
    "\n",
    "newcomer.visible.df <- cbind(newcomer.visible.df, \n",
    "                             predict(m.newcomer.visible, data.frame(post.treatment=c(0,1)), interval=\"prediction\"))\n",
    "\n",
    "newcomer.visible.df\n",
    "\n",
    "ggplot(newcomer.visible.df, aes(factor(post.treatment), fit.fit, color=factor(post.treatment))) +\n",
    "    geom_point(size=2) +\n",
    "    geom_errorbar(aes(ymax=newcomer.visible.df$fit.upr, \n",
    "                      ymin=newcomer.visible.df$fit.lwr),\n",
    "                  width=0.1, size=1) +\n",
    "    scale_colour_manual(values=catpalette, name=\"Condition\") +\n",
    "    cat.theme +\n",
    "    ylim(0,1.25) +\n",
    "    ggtitle(paste(\"Because so few comments were removed, posting a sticky comment\",\n",
    "                  \"\\ndid not have an observable effect on whether a newcomer comment would be removed\", sep=\"\")) +\n",
    "    xlab(paste(\"Results of a randomized trial in r/ffxiv involving \", prettyNum(nrow(posts.df), big.mark=\",\"),\n",
    "               \" posts and \", prettyNum(nrow(comments.df), big.mark=\",\"), \" comments\\n\",\n",
    "               \"from 07-06-2019 to 08-24-2019. Results of a cluster-adjusted linear regression.\",\n",
    "               end.caption.text, sep=\"\"))"
   ]
  },
  {
   "cell_type": "markdown",
   "metadata": {},
   "source": [
    "# Exploratory Questions"
   ]
  },
  {
   "cell_type": "code",
   "execution_count": 43,
   "metadata": {},
   "outputs": [
    {
     "data": {
      "text/plain": [
       "\n",
       "Call:\n",
       "glm.nb(formula = num.comments ~ treatment + weekend, data = posts.df, \n",
       "    init.theta = 0.5175270953, link = log)\n",
       "\n",
       "Deviance Residuals: \n",
       "    Min       1Q   Median       3Q      Max  \n",
       "-2.0569  -1.0725  -0.6835  -0.2171   9.8061  \n",
       "\n",
       "Coefficients:\n",
       "            Estimate Std. Error z value Pr(>|z|)    \n",
       "(Intercept)  3.41203    0.01880 181.503  < 2e-16 ***\n",
       "treatment   -0.06828    0.02551  -2.677  0.00744 ** \n",
       "weekendTrue -0.19701    0.03592  -5.484 4.15e-08 ***\n",
       "---\n",
       "Signif. codes:  0 ‘***’ 0.001 ‘**’ 0.01 ‘*’ 0.05 ‘.’ 0.1 ‘ ’ 1\n",
       "\n",
       "(Dispersion parameter for Negative Binomial(0.5175) family taken to be 1)\n",
       "\n",
       "    Null deviance: 14611  on 12095  degrees of freedom\n",
       "Residual deviance: 14575  on 12093  degrees of freedom\n",
       "AIC: 101777\n",
       "\n",
       "Number of Fisher Scoring iterations: 1\n",
       "\n",
       "\n",
       "              Theta:  0.51753 \n",
       "          Std. Err.:  0.00592 \n",
       "\n",
       " 2 x log-likelihood:  -101769.10400 "
      ]
     },
     "metadata": {},
     "output_type": "display_data"
    },
    {
     "data": {
      "text/plain": [
       "\n",
       "Call:\n",
       "glm.nb(formula = num.experienced.comments ~ treatment + weekend, \n",
       "    data = posts.df, init.theta = 0.5087677444, link = log)\n",
       "\n",
       "Deviance Residuals: \n",
       "    Min       1Q   Median       3Q      Max  \n",
       "-2.0349  -1.0493  -0.6943  -0.2093   9.7853  \n",
       "\n",
       "Coefficients:\n",
       "            Estimate Std. Error z value Pr(>|z|)    \n",
       "(Intercept)  3.37662    0.01896 178.065  < 2e-16 ***\n",
       "treatment   -0.06898    0.02573  -2.681  0.00734 ** \n",
       "weekendTrue -0.20272    0.03624  -5.594 2.22e-08 ***\n",
       "---\n",
       "Signif. codes:  0 ‘***’ 0.001 ‘**’ 0.01 ‘*’ 0.05 ‘.’ 0.1 ‘ ’ 1\n",
       "\n",
       "(Dispersion parameter for Negative Binomial(0.5088) family taken to be 1)\n",
       "\n",
       "    Null deviance: 14605  on 12095  degrees of freedom\n",
       "Residual deviance: 14568  on 12093  degrees of freedom\n",
       "AIC: 100708\n",
       "\n",
       "Number of Fisher Scoring iterations: 1\n",
       "\n",
       "\n",
       "              Theta:  0.50877 \n",
       "          Std. Err.:  0.00583 \n",
       "\n",
       " 2 x log-likelihood:  -100700.07200 "
      ]
     },
     "metadata": {},
     "output_type": "display_data"
    }
   ],
   "source": [
    "## Effect on the number of comments\n",
    "summary(m.post.num.comments <- glm.nb(num.comments ~ treatment + weekend, data=posts.df))\n",
    "\n",
    "\n",
    "posts.df$num.experienced.comments <- posts.df$num.comments - posts.df$newcomer.comments\n",
    "summary(m.post.num.exp.comments <- glm.nb(num.experienced.comments ~ treatment + weekend, data=posts.df))"
   ]
  },
  {
   "cell_type": "markdown",
   "metadata": {},
   "source": [
    "#### Plot Result for Experienced Comments"
   ]
  },
  {
   "cell_type": "code",
   "execution_count": 47,
   "metadata": {},
   "outputs": [],
   "source": [
    "m.post.num.comments.c <- summary(m.post.num.comments)$coefficients\n",
    "m.post.num.exp.comments.c <- summary(m.post.num.exp.comments)$coefficients\n",
    "critval = 1.96\n",
    "\n",
    "nb.exp.results.df <- data.frame(\n",
    "    model = c(\"All Comments\", \"Experienced Comments\"),\n",
    "    fit   = c(\n",
    "              exp(m.post.num.comments.c['treatment',]['Estimate']),\n",
    "              exp(m.post.num.exp.comments.c['treatment',]['Estimate'])\n",
    "    ),\n",
    "    upr   = c(\n",
    "              exp(m.post.num.comments.c['treatment',]['Estimate'] + m.post.num.comments.c['treatment',]['Std. Error'] * critval),\n",
    "              exp(m.post.num.exp.comments.c['treatment',]['Estimate'] + m.post.num.exp.comments.c['treatment',]['Std. Error'] * critval)\n",
    "    ),\n",
    "    lwr   = c(\n",
    "              exp(m.post.num.comments.c['treatment',]['Estimate'] - m.post.num.comments.c['treatment',]['Std. Error'] * critval),\n",
    "              exp(m.post.num.exp.comments.c['treatment',]['Estimate'] - m.post.num.exp.comments.c['treatment',]['Std. Error'] * critval)\n",
    "    )\n",
    "\n",
    "\n",
    ")"
   ]
  },
  {
   "cell_type": "code",
   "execution_count": 51,
   "metadata": {},
   "outputs": [
    {
     "data": {},
     "metadata": {},
     "output_type": "display_data"
    },
    {
     "data": {
      "image/png": "[encoded data removed]",
      "text/plain": [
       "plot without title"
      ]
     },
     "metadata": {},
     "output_type": "display_data"
    }
   ],
   "source": [
    "ggplot(nb.exp.results.df, aes(factor(model), fit, color=factor(model))) +\n",
    "    geom_hline(yintercept=1, linetype=\"dashed\", size=0.5, color=\"#000000\") +\n",
    "    geom_point(size=2) +\n",
    "    geom_errorbar(aes(ymax=nb.exp.results.df$upr,\n",
    "                      ymin=nb.exp.results.df$lwr),\n",
    "                  size=1, width=0.1) +\n",
    "    scale_colour_manual(values=catpalette, name=\"Estimated Effect\") +\n",
    "    ylab(\"\") +\n",
    "    ggtitle(paste(\"Posting the rules to discussions in r/ffxiv reduced the rate of comments on average,\\n\",\n",
    "                  \"most noticeably among comments from experienced accounts\", sep=\"\")) +\n",
    "    xlab(paste(\"Results of a randomized trial in r/ffxiv involving \", prettyNum(nrow(posts.df), big.mark=\",\"),\n",
    "               \" posts from 07-06-2019 to 08-24-2019.\\nResults of a negative binomial models, in an exploratory analysis (adjusted for multiple comparisons).\",end.caption.text, sep=\"\")) +\n",
    "    cat.theme"
   ]
  },
  {
   "cell_type": "markdown",
   "metadata": {},
   "source": [
    "### Correlate rates of norm compliance with how many previous comments someone had made"
   ]
  },
  {
   "cell_type": "code",
   "execution_count": 37,
   "metadata": {},
   "outputs": [
    {
     "name": "stderr",
     "output_type": "stream",
     "text": [
      "`stat_bin()` using `bins = 30`. Pick better value with `binwidth`.\n"
     ]
    },
    {
     "data": {},
     "metadata": {},
     "output_type": "display_data"
    },
    {
     "data": {
      "image/png": "[encoded data removed]",
      "text/plain": [
       "plot without title"
      ]
     },
     "metadata": {},
     "output_type": "display_data"
    }
   ],
   "source": [
    "ggplot(all.comments.df, aes(log1p(author.prev.comments))) +\n",
    "    geom_histogram() +\n",
    "    cat.theme"
   ]
  },
  {
   "cell_type": "code",
   "execution_count": 27,
   "metadata": {},
   "outputs": [],
   "source": [
    "all.comments.df$author.prev.comments.log1p <- log1p(all.comments.df$author.prev.comments)\n"
   ]
  },
  {
   "cell_type": "code",
   "execution_count": 28,
   "metadata": {},
   "outputs": [
    {
     "data": {
      "text/plain": [
       "   Min. 1st Qu.  Median    Mean 3rd Qu.    Max. \n",
       " 0.0000  1.0000  1.0000  0.9933  1.0000  1.0000 "
      ]
     },
     "metadata": {},
     "output_type": "display_data"
    }
   ],
   "source": [
    "summary(all.comments.df$visible)"
   ]
  },
  {
   "cell_type": "code",
   "execution_count": 29,
   "metadata": {},
   "outputs": [
    {
     "data": {
      "text/plain": [
       "                               Estimate   Std. Error    t value     Pr(>|t|)\n",
       "(Intercept)                0.9911616847 0.0010164587 975.112586 0.0000000000\n",
       "author.prev.comments.log1p 0.0005879413 0.0001752323   3.355211 0.0009021559\n",
       "                               CI Lower     CI Upper       DF\n",
       "(Intercept)                0.9891624194 0.9931609500 343.5666\n",
       "author.prev.comments.log1p 0.0002430073 0.0009328753 281.1085"
      ]
     },
     "metadata": {},
     "output_type": "display_data"
    }
   ],
   "source": [
    "m.comments.prev.visible <- lm_robust(visible ~ author.prev.comments.log1p, \n",
    "                                     data=subset(all.comments.df, post.treatment==0),\n",
    "                                     clusters=subset(all.comments.df, post.treatment==0)$post.assign.number)\n",
    "m.comments.prev.visible"
   ]
  },
  {
   "cell_type": "code",
   "execution_count": 30,
   "metadata": {},
   "outputs": [
    {
     "data": {
      "text/plain": [
       "                 Estimate   Std. Error     t value    Pr(>|t|)    CI Lower\n",
       "(Intercept)   0.993978562 0.0004364559 2277.385852 0.000000000  0.99312053\n",
       "newcomerTrue -0.006446996 0.0020948558   -3.077537 0.002297246 -0.01057093\n",
       "                CI Upper       DF\n",
       "(Intercept)   0.99483659 400.1912\n",
       "newcomerTrue -0.00232306 275.8383"
      ]
     },
     "metadata": {},
     "output_type": "display_data"
    }
   ],
   "source": [
    "m.comments.newcomer.visible <- lm_robust(visible ~ newcomer, \n",
    "                                     data=subset(all.comments.df, post.treatment==0),\n",
    "                                     clusters=subset(all.comments.df, post.treatment==0)$post.assign.number)\n",
    "m.comments.newcomer.visible"
   ]
  },
  {
   "cell_type": "markdown",
   "metadata": {},
   "source": [
    "# Adjust P Values"
   ]
  },
  {
   "cell_type": "code",
   "execution_count": 31,
   "metadata": {},
   "outputs": [],
   "source": [
    "## create a dataframe \n",
    "pvalue.dataframe <- function(model.object, model.name, coefficient=\"treatment\"){\n",
    "    \n",
    "    if('Pr(>|t|)' %in% colnames(summary(model.object)$coefficients)){\n",
    "        p.col = 'Pr(>|t|)'\n",
    "    }else{\n",
    "        p.col = 'Pr(>|z|)'\n",
    "    }\n",
    "#    print(coefficient)\n",
    "#    print(p.col)\n",
    "   return(data.frame(\"model\"=model.name, \n",
    "                     \"pvalue\" = summary(model.object)$coefficients[coefficient,][[p.col]]))\n",
    "}"
   ]
  },
  {
   "cell_type": "code",
   "execution_count": 32,
   "metadata": {},
   "outputs": [],
   "source": [
    "## dataframe for storing p-values\n",
    "p.values.confirmatory <- data.frame(\"model\"=character(),  \"p.value\"= double(), \"adjusted.value\"=double())\n",
    "p.values.all <- data.frame(\"model\"=character(),  \"p.value\"= double(), \"adjusted.value\"=double())\n",
    "\n",
    "p.values.confirmatory <- rbind(p.values.confirmatory,\n",
    "                               pvalue.dataframe(m.post.new, \"m.post.new\"))\n",
    "p.values.confirmatory <- rbind(p.values.confirmatory,\n",
    "                               pvalue.dataframe(m.post.new.removed, \"m.post.new.removed\"))\n",
    "p.values.confirmatory <- rbind(p.values.confirmatory,\n",
    "                               pvalue.dataframe(m.newcomer.visible, \"m.newcomer.visible\", \"post.treatment\"))\n"
   ]
  },
  {
   "cell_type": "code",
   "execution_count": 33,
   "metadata": {},
   "outputs": [
    {
     "data": {
      "text/html": [
       "<table>\n",
       "<thead><tr><th scope=col>model</th><th scope=col>pvalue</th></tr></thead>\n",
       "<tbody>\n",
       "\t<tr><td>m.post.new        </td><td>0.1923410         </td></tr>\n",
       "\t<tr><td>m.post.new.removed</td><td>0.8588369         </td></tr>\n",
       "\t<tr><td>m.newcomer.visible</td><td>0.6908380         </td></tr>\n",
       "</tbody>\n",
       "</table>\n"
      ],
      "text/latex": [
       "\\begin{tabular}{r|ll}\n",
       " model & pvalue\\\\\n",
       "\\hline\n",
       "\t m.post.new         & 0.1923410         \\\\\n",
       "\t m.post.new.removed & 0.8588369         \\\\\n",
       "\t m.newcomer.visible & 0.6908380         \\\\\n",
       "\\end{tabular}\n"
      ],
      "text/markdown": [
       "\n",
       "| model | pvalue |\n",
       "|---|---|\n",
       "| m.post.new         | 0.1923410          |\n",
       "| m.post.new.removed | 0.8588369          |\n",
       "| m.newcomer.visible | 0.6908380          |\n",
       "\n"
      ],
      "text/plain": [
       "  model              pvalue   \n",
       "1 m.post.new         0.1923410\n",
       "2 m.post.new.removed 0.8588369\n",
       "3 m.newcomer.visible 0.6908380"
      ]
     },
     "metadata": {},
     "output_type": "display_data"
    }
   ],
   "source": [
    "p.values.confirmatory"
   ]
  },
  {
   "cell_type": "code",
   "execution_count": 34,
   "metadata": {},
   "outputs": [],
   "source": [
    "p.values.all <- rbind(p.values.confirmatory, \n",
    "                      pvalue.dataframe(m.post.num.comments, \"m.post.num.comments\"))\n",
    "p.values.all <- rbind(p.values.all,\n",
    "                      pvalue.dataframe(m.post.num.exp.comments, \"m.post.num.exp.comments\"))\n",
    "p.values.all <- rbind(p.values.all,\n",
    "                      pvalue.dataframe(m.comments.prev.visible, \"m.comments.prev.visible\", \"author.prev.comments.log1p\"))\n",
    "p.values.all <- rbind(p.values.all,\n",
    "                      pvalue.dataframe(m.comments.newcomer.visible, \"m.comments.newcomer.visible\", \"newcomerTrue\"))"
   ]
  },
  {
   "cell_type": "code",
   "execution_count": 35,
   "metadata": {},
   "outputs": [
    {
     "data": {
      "text/html": [
       "<table>\n",
       "<thead><tr><th scope=col>model</th><th scope=col>pvalue</th></tr></thead>\n",
       "<tbody>\n",
       "\t<tr><td>m.post.new        </td><td>0.1923410         </td></tr>\n",
       "\t<tr><td>m.post.new.removed</td><td>0.8588369         </td></tr>\n",
       "\t<tr><td>m.newcomer.visible</td><td>0.6908380         </td></tr>\n",
       "</tbody>\n",
       "</table>\n"
      ],
      "text/latex": [
       "\\begin{tabular}{r|ll}\n",
       " model & pvalue\\\\\n",
       "\\hline\n",
       "\t m.post.new         & 0.1923410         \\\\\n",
       "\t m.post.new.removed & 0.8588369         \\\\\n",
       "\t m.newcomer.visible & 0.6908380         \\\\\n",
       "\\end{tabular}\n"
      ],
      "text/markdown": [
       "\n",
       "| model | pvalue |\n",
       "|---|---|\n",
       "| m.post.new         | 0.1923410          |\n",
       "| m.post.new.removed | 0.8588369          |\n",
       "| m.newcomer.visible | 0.6908380          |\n",
       "\n"
      ],
      "text/plain": [
       "  model              pvalue   \n",
       "1 m.post.new         0.1923410\n",
       "2 m.post.new.removed 0.8588369\n",
       "3 m.newcomer.visible 0.6908380"
      ]
     },
     "metadata": {},
     "output_type": "display_data"
    }
   ],
   "source": [
    "p.values.confirmatory"
   ]
  },
  {
   "cell_type": "code",
   "execution_count": 36,
   "metadata": {},
   "outputs": [
    {
     "data": {
      "text/html": [
       "<table>\n",
       "<thead><tr><th scope=col>model</th><th scope=col>pvalue</th></tr></thead>\n",
       "<tbody>\n",
       "\t<tr><td>m.post.new                 </td><td>0.1923409745               </td></tr>\n",
       "\t<tr><td>m.post.new.removed         </td><td>0.8588368713               </td></tr>\n",
       "\t<tr><td>m.newcomer.visible         </td><td>0.6908380302               </td></tr>\n",
       "\t<tr><td>m.post.num.comments        </td><td>0.0074355651               </td></tr>\n",
       "\t<tr><td>m.post.num.exp.comments    </td><td>0.0073399240               </td></tr>\n",
       "\t<tr><td>m.comments.prev.visible    </td><td>0.0009021559               </td></tr>\n",
       "\t<tr><td>m.comments.newcomer.visible</td><td>0.0022972455               </td></tr>\n",
       "</tbody>\n",
       "</table>\n"
      ],
      "text/latex": [
       "\\begin{tabular}{r|ll}\n",
       " model & pvalue\\\\\n",
       "\\hline\n",
       "\t m.post.new                  & 0.1923409745               \\\\\n",
       "\t m.post.new.removed          & 0.8588368713               \\\\\n",
       "\t m.newcomer.visible          & 0.6908380302               \\\\\n",
       "\t m.post.num.comments         & 0.0074355651               \\\\\n",
       "\t m.post.num.exp.comments     & 0.0073399240               \\\\\n",
       "\t m.comments.prev.visible     & 0.0009021559               \\\\\n",
       "\t m.comments.newcomer.visible & 0.0022972455               \\\\\n",
       "\\end{tabular}\n"
      ],
      "text/markdown": [
       "\n",
       "| model | pvalue |\n",
       "|---|---|\n",
       "| m.post.new                  | 0.1923409745                |\n",
       "| m.post.new.removed          | 0.8588368713                |\n",
       "| m.newcomer.visible          | 0.6908380302                |\n",
       "| m.post.num.comments         | 0.0074355651                |\n",
       "| m.post.num.exp.comments     | 0.0073399240                |\n",
       "| m.comments.prev.visible     | 0.0009021559                |\n",
       "| m.comments.newcomer.visible | 0.0022972455                |\n",
       "\n"
      ],
      "text/plain": [
       "  model                       pvalue      \n",
       "1 m.post.new                  0.1923409745\n",
       "2 m.post.new.removed          0.8588368713\n",
       "3 m.newcomer.visible          0.6908380302\n",
       "4 m.post.num.comments         0.0074355651\n",
       "5 m.post.num.exp.comments     0.0073399240\n",
       "6 m.comments.prev.visible     0.0009021559\n",
       "7 m.comments.newcomer.visible 0.0022972455"
      ]
     },
     "metadata": {},
     "output_type": "display_data"
    }
   ],
   "source": [
    "p.values.all"
   ]
  },
  {
   "cell_type": "code",
   "execution_count": null,
   "metadata": {},
   "outputs": [],
   "source": []
  }
 ],
 "metadata": {
  "kernelspec": {
   "display_name": "R",
   "language": "R",
   "name": "ir"
  },
  "language_info": {
   "codemirror_mode": "r",
   "file_extension": ".r",
   "mimetype": "text/x-r-source",
   "name": "R",
   "pygments_lexer": "r",
   "version": "3.5.1"
  },
  "varInspector": {
   "cols": {
    "lenName": 16,
    "lenType": 16,
    "lenVar": 40
   },
   "kernels_config": {
    "python": {
     "delete_cmd_postfix": "",
     "delete_cmd_prefix": "del ",
     "library": "var_list.py",
     "varRefreshCmd": "print(var_dic_list())"
    },
    "r": {
     "delete_cmd_postfix": ") ",
     "delete_cmd_prefix": "rm(",
     "library": "var_list.r",
     "varRefreshCmd": "cat(var_dic_list()) "
    }
   },
   "types_to_exclude": [
    "module",
    "function",
    "builtin_function_or_method",
    "instance",
    "_Feature"
   ],
   "window_display": false
  }
 },
 "nbformat": 4,
 "nbformat_minor": 4
}
